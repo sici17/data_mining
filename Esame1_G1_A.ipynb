{
  "cells": [
    {
      "cell_type": "markdown",
      "metadata": {
        "id": "pTNb0TbP5vxU"
      },
      "source": [
        "Si prega di compilare il modulo (le tue informazioni)\n",
        "**Please fill in the form (your information)"
      ]
    },
    {
      "cell_type": "code",
      "execution_count": null,
      "metadata": {
        "id": "8fOjglws50kr"
      },
      "outputs": [],
      "source": [
        "#Codice: Esame1-G1-A\n",
        "\n",
        "\n",
        "#Nome:\n",
        "\n",
        "#Cognome:\n",
        "\n",
        "#Matricola:\n",
        "\n"
      ]
    },
    {
      "cell_type": "markdown",
      "metadata": {
        "id": "--2VVEeN5EFs"
      },
      "source": [
        "**Domanda1**: Carica il dataset 'iris' in un oggetto DataFrame e visualizza (stampando) le prime 10 righe del DataFrame. Successivamente, crea un istogramma dell'attributo 'sepal length'. (6 punti)\n",
        "==============================================================================================================\n",
        "**Question1:** Load the 'iris' dataset into a DataFrame object and display (print) the first 10 rows of the DataFrame. Then, create a histogram plot of the 'sepal length' attribute. (6 points)"
      ]
    },
    {
      "cell_type": "code",
      "execution_count": null,
      "metadata": {
        "colab": {
          "base_uri": "https://localhost:8080/",
          "height": 871
        },
        "id": "oq_m9WHo5s_k",
        "outputId": "5d60f564-9604-4e10-cfc1-487ab28a83c4"
      },
      "outputs": [],
      "source": [
        "# load the libraries\n",
        "?\n",
        "\n",
        "# load the data\n",
        "iris = ?\n",
        "\n",
        "# Define the dataframe (define data and label as row and column)\n",
        "df = ?\n",
        "df['target'] = \n",
        "\n",
        "# print top 10 rows\n",
        "?\n",
        "\n",
        "# histogram plot\n",
        "\n",
        "?\n",
        "plt.xlabel('Sepal Length (cm)')\n",
        "plt.ylabel('Frequency')\n",
        "plt.title('Histogram of Sepal Length')\n",
        "plt.show()\n"
      ]
    },
    {
      "cell_type": "markdown",
      "metadata": {
        "id": "GgrWjno16jFS"
      },
      "source": [
        "**Domanda2**: Applica l'algoritmo K-Means al dataset 'iris' per raggruppare i fiori in 3 cluster. Successivamente, visualizza i cluster risultanti utilizzando un grafico a dispersione che mostri lunghezza del petalo versus larghezza del petalo, con colori diversi che rappresentano ciascun cluster. (6 punti)\n",
        "==============================================================================================================\n",
        "**Question2:** Apply the K-Means algorithm to the 'iris' dataset to cluster the flowers into 3 clusters. Then, visualize the resulting clusters using a scatter plot of petal length versus petal width with different colors representing each cluster. (6 points)"
      ]
    },
    {
      "cell_type": "code",
      "execution_count": null,
      "metadata": {
        "colab": {
          "base_uri": "https://localhost:8080/",
          "height": 472
        },
        "id": "eyjRhpT97fb7",
        "outputId": "1766b24f-93e6-43f8-f223-dafac6995cc2"
      },
      "outputs": [],
      "source": [
        "# define libraries\n",
        "?\n",
        "\n",
        "# load data and define dataframe\n",
        "iris = ?\n",
        "df = pd.DataFrame(data=iris.?, columns=iris.feature_names)\n",
        "\n",
        "# define K-means clustering\n",
        "kmeans = ?\n",
        "# apply K-means clustering\n",
        "df['Cluster'] = ?\n",
        "\n",
        "\n",
        "# scatter plot\n",
        "plt. ?\n",
        "plt.xlabel('Petal Length (cm)')\n",
        "plt.ylabel('Petal Width (cm)')\n",
        "plt.title('K-Means Clustering of Iris Dataset')\n",
        "plt.show()\n",
        "\n"
      ]
    },
    {
      "cell_type": "markdown",
      "metadata": {
        "id": "Ls0H_cw37osc"
      },
      "source": [
        "**Domanda3**: Addestra un classificatore albero decisionale sul dataset 'wine' per predire la classe del vino. Valutare il modello utilizzando la metrica di accuratezza e visualizzare la matrice di confusione. Usare il 30% dei dati per il test del modello, il resto per il training. (9 punti)\n",
        "============================================================================================================\n",
        "**Question3:** Train a decision tree classifier on the 'wine' dataset to predict the wine class. Evaluate the model using the accuracy metric and display the confusion matrix. Use 30% of the data for test and the rest for training. (9 points)"
      ]
    },
    {
      "cell_type": "code",
      "execution_count": null,
      "metadata": {
        "colab": {
          "base_uri": "https://localhost:8080/",
          "height": 489
        },
        "id": "p0sCfecT8CWk",
        "outputId": "d8cd9ba9-8f3e-47fc-8f27-481593691042"
      },
      "outputs": [],
      "source": [
        "#  libraries\n",
        "\n",
        "?\n",
        "# load dataset and define dataframe\n",
        "wine = ?\n",
        "df = pd.DataFrame(data=wine.?, columns=wine.feature_names)\n",
        "df['target'] = wine.target\n",
        "\n",
        "# seprate the data and label\n",
        "X = df.drop('target', axis=1)\n",
        "y = df['target']\n",
        "\n",
        "# define the train and test data\n",
        "X_train, X_test, y_train, y_test = ?\n",
        "\n",
        "# define the classifier\n",
        "model = ?\n",
        "\n",
        "#apply the classifier\n",
        "?\n",
        "\n",
        "# see the predictions on test data\n",
        "y_pred = ?\n",
        "\n",
        "# calculate the accuracy\n",
        "accuracy = ?\n",
        "\n",
        "#print the accuracy\n",
        "print(f'Accuracy: {accuracy}')\n",
        "\n",
        "#define the confusion matrix\n",
        "cm = ?\n",
        "\n",
        "# use sns to plot the confusion matrix\n",
        "sns. (? , annot=True, fmt='d', cmap='Blues')\n",
        "plt.xlabel('Predicted')\n",
        "plt.ylabel('Actual')\n",
        "plt.title('Confusion Matrix')\n",
        "plt.show()\n"
      ]
    },
    {
      "cell_type": "markdown",
      "metadata": {
        "id": "0lOFTXyi8HGK"
      },
      "source": [
        "**Domanda 4**: Utilizza il dataset di immagini 'digits' per addestrare un classificatore random forest composto da 80 alberi decisionali per prevedere la cifra. Successivamente, usa la cross-validation con 5 folds per valutare l'accuratezza del modello. (9 punti)\n",
        "======================================================================================================\n",
        "**Question 4:** Use the 'digits' image dataset to train a random forest classifier with 80 trees to predict the digit. Then, use cross-validation with 5 folds to evaluate the model accuracy. (9 points)"
      ]
    },
    {
      "cell_type": "code",
      "execution_count": null,
      "metadata": {
        "colab": {
          "base_uri": "https://localhost:8080/"
        },
        "id": "5hVUiUxZ8a7z",
        "outputId": "b484d638-f6f3-440b-ea07-dd4799f5d8d1"
      },
      "outputs": [],
      "source": [
        "# libraries\n",
        "?\n",
        "\n",
        "# load dataset\n",
        "digits = ?\n",
        "\n",
        "# define data and labels\n",
        "X = ?\n",
        "y = ?\n",
        "\n",
        "# define the classifier\n",
        "model = ?\n",
        "\n",
        "#define and calculate the score with cross validation\n",
        "scores = ?\n",
        "\n",
        "# print the mean of score\n",
        "print(f'Cross-validated Accuracy: {?}')\n",
        "\n",
        "\n"
      ]
    }
  ],
  "metadata": {
    "colab": {
      "provenance": []
    },
    "kernelspec": {
      "display_name": "Python 3",
      "name": "python3"
    },
    "language_info": {
      "name": "python"
    }
  },
  "nbformat": 4,
  "nbformat_minor": 0
}
