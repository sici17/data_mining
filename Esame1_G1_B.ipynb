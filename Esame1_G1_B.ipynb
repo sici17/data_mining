{
  "cells": [
    {
      "cell_type": "markdown",
      "metadata": {
        "id": "CFGl-GHFCxhN"
      },
      "source": [
        "Si prega di compilare il modulo (le tue informazioni)\n",
        "\n",
        "**Please fill in the form (your information)**\n"
      ]
    },
    {
      "cell_type": "code",
      "execution_count": null,
      "metadata": {
        "id": "o358fE25CqM3"
      },
      "outputs": [],
      "source": [
        "# Codice: Esame1-G1-B\n",
        "\n",
        "#Nome:\n",
        "\n",
        "#Cognome:\n",
        "\n",
        "#Matricola:\n"
      ]
    },
    {
      "cell_type": "markdown",
      "metadata": {
        "id": "wxy9qX7PC0yE"
      },
      "source": [
        "**Domanda 1**: Carica il dataset 'breast cancer' in un oggetto DataFrame e visualizza (stampa) le prime 10 righe del DataFrame. Successivamente, crea un grafico a barre che mostri i valori medi di ciascuna feature. (6 punti)\n",
        "=======================================================================================================\n",
        "**Question 1**: Load the 'breast cancer' dataset into a DataFrame object and display (print) the first 10 rows of the DataFrame. Then, create a bar plot showing the mean values of each feature. (6 points)"
      ]
    },
    {
      "cell_type": "code",
      "execution_count": null,
      "metadata": {
        "colab": {
          "base_uri": "https://localhost:8080/",
          "height": 1000
        },
        "id": "SU4UgoH2C5k7",
        "outputId": "35ba0be0-a959-4ef9-8559-2a8bf5bf7679"
      },
      "outputs": [],
      "source": [
        "# load libraries\n",
        "?\n",
        "\n",
        "# load the data\n",
        "breast_cancer = ?\n",
        "\n",
        "# Define the dataframe\n",
        "df = ?\n",
        "df['target'] = \n",
        "print(?)\n",
        "\n",
        "# bar plot\n",
        "mean_values = df.?\n",
        "mean_values.? (kind='?')\n",
        "plt.xlabel('Features')\n",
        "plt.ylabel('Mean Value')\n",
        "plt.title('Mean Values of Features in Breast Cancer Dataset')\n",
        "plt.show()\n"
      ]
    },
    {
      "cell_type": "markdown",
      "metadata": {
        "id": "Gf_LjGjyDFdz"
      },
      "source": [
        "**Domanda 2**: Utilizza il dataset di immagini 'digits' per addestrare un classificatore SVM per prevedere la cifra. Successivamente, usa la cross-validation con 5 folds per valutare l'accuratezza del modello. (9 punti)\n",
        "============================================================================================================\n",
        "**Question 2:** Use the 'digits' image dataset to train an SVM classifier to predict the digit. Then, use cross-validation with 5 folds to evaluate the model accuracy. (9 points)"
      ]
    },
    {
      "cell_type": "code",
      "execution_count": null,
      "metadata": {
        "id": "Ct4nNjQwDJb7"
      },
      "outputs": [],
      "source": [
        "#  libraries\n",
        "?\n",
        "\n",
        "# load data\n",
        "digits = ?\n",
        "\n",
        "# define data and label\n",
        "X = ?\n",
        "y = ?\n",
        "\n",
        "# define classifier (use linear kernel)\n",
        "model = ?\n",
        "\n",
        "# evaluate the cross validation\n",
        "scores = ?\n",
        "\n",
        "# calculate the mean score and print\n",
        "print(f'Cross-validated Accuracy: {?}')\n"
      ]
    },
    {
      "cell_type": "markdown",
      "metadata": {
        "id": "qQQLXhBwDWGj"
      },
      "source": [
        "**Domanda 3**: Addestra un classificatore Support Vector Machine (SVM) sul dataset 'breast cancer' per prevedere la classe target. Valuta il modello utilizzando l'accuratezza e visualizza la matrice di confusione. Utilizza il 20% dei dati per il test e il resto per l'addestramento. (9 punti)\n",
        "=============================================================================================================\n",
        "**Question 3**: Train a Support Vector Machine (SVM) classifier on the 'breast cancer' dataset to predict the target class. Evaluate the model using accuracy and display the confusion matrix. Use 20% of the data for test and the rest for training. (9 points)"
      ]
    },
    {
      "cell_type": "code",
      "execution_count": null,
      "metadata": {
        "colab": {
          "base_uri": "https://localhost:8080/",
          "height": 489
        },
        "id": "YxnEdiq9DWyU",
        "outputId": "8e8e408d-8e0b-481c-dd6e-6a5a78873ed7"
      },
      "outputs": [],
      "source": [
        "# libraries\n",
        "?\n",
        "\n",
        "# load data and define dataframe\n",
        "breast_cancer = ?\n",
        "df = pd.DataFrame(data=breast_cancer.data, columns=breast_cancer.feature_names)\n",
        "df['target'] = ?\n",
        "\n",
        "#define x and y\n",
        "X = ?.drop('target', axis=1)\n",
        "y = df['target']\n",
        "\n",
        "# separate the trainig and test data \n",
        "\n",
        "X_train, X_test, y_train, y_test = ?\n",
        "\n",
        "#define the classifer \n",
        "model = ?\n",
        "\n",
        "# apply the classifier\n",
        "model.?\n",
        "\n",
        "# see the classifier output for test data\n",
        "y_pred = ?\n",
        "\n",
        "#calculate and print accuracy\n",
        "accuracy = ?\n",
        "print(f'Accuracy: {accuracy}')\n",
        "\n",
        "#define confusion matrix and plot \n",
        "cm = ?\n",
        "sns.?(?, annot=True, fmt='d', cmap='Blues')\n",
        "plt.xlabel('Predicted')\n",
        "plt.ylabel('Actual')\n",
        "plt.title('Confusion Matrix')\n",
        "plt.show()\n"
      ]
    },
    {
      "cell_type": "markdown",
      "metadata": {
        "id": "KDcduI-yDYsc"
      },
      "source": [
        "**Domanda 4**: Esegui il clustering K-Means sul dataset 'breast cancer' per raggruppare i campioni in 3 cluster. Poi visualizza i cluster utilizzando un grafico a dispersione delle prime due caratteristiche. (6 punti)\n",
        "=======================================================================================================\n",
        "**Question 4**: Apply the K-Means algorithm to the 'breast cancer' dataset to cluster the samples into 3 clusters. Then, visualize the resulting clusters using a scatter plot of the first two features. (6 points)"
      ]
    },
    {
      "cell_type": "code",
      "execution_count": null,
      "metadata": {
        "colab": {
          "base_uri": "https://localhost:8080/",
          "height": 507
        },
        "id": "_2Tf78p5ETyz",
        "outputId": "043c6d74-0cfa-4858-9dcf-bf112f3ccb2b"
      },
      "outputs": [],
      "source": [
        "# libraries \n",
        "?\n",
        "\n",
        "# load the data\n",
        "breast_cancer = ?\n",
        "\n",
        "# Define the dataframe\n",
        "df = pd.DataFrame(data=breast_cancer.?, columns=?)\n",
        "\n",
        "# Perform K-Means clustering\n",
        "kmeans = ?\n",
        "df['Cluster'] = ?.fit_predict(?)\n",
        "\n",
        "# Scatter plot of the first two features\n",
        "plt.?(?.iloc[:, 0], ?.?[:, 1], c=df['?'], cmap='viridis')\n",
        "plt.xlabel(breast_cancer.feature_names[?])\n",
        "plt.ylabel(breast_cancer.feature_names[?])\n",
        "plt.title('K-Means Clustering of Breast Cancer Dataset')\n",
        "plt.show()\n"
      ]
    }
  ],
  "metadata": {
    "colab": {
      "provenance": []
    },
    "kernelspec": {
      "display_name": "Python 3",
      "name": "python3"
    },
    "language_info": {
      "name": "python"
    }
  },
  "nbformat": 4,
  "nbformat_minor": 0
}
