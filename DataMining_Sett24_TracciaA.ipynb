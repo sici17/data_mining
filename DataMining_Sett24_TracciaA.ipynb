{
  "cells": [
    {
      "cell_type": "markdown",
      "metadata": {
        "id": "pTNb0TbP5vxU"
      },
      "source": [
        "Si prega di compilare il modulo (le tue informazioni)\n",
        "**Please fill in the form (your information)"
      ]
    },
    {
      "cell_type": "code",
      "execution_count": null,
      "metadata": {
        "id": "8fOjglws50kr"
      },
      "outputs": [],
      "source": [
        "#Codice: Esame3-G3-A\n",
        "\n",
        "\n",
        "#Nome:\n",
        "\n",
        "#Cognome:\n",
        "\n",
        "#Matricola:\n",
        "\n"
      ]
    },
    {
      "cell_type": "markdown",
      "metadata": {
        "id": "--2VVEeN5EFs"
      },
      "source": [
        "**Domanda1**: Considera il dataset \"Wine\" di Sklearn e classifica i tipi di vino utilizzando un classificatore Random Forest. Esegui 10 validazioni incrociate e stampa i risultati della precisione media. Usa l'80% dei dati per l'addestramento. Prevedi le etichette sul set di test, calcola e visualizza (tramite grafico) la matrice di confusione. Calcola l'importanza delle caratteristiche dal modello Random Forest. Visualizza (tramite grafico) solo le 5 caratteristiche più importanti (le prime 5 più importanti, non tutte). (10 punti)\n",
        "==============================================================================================================\n",
        "**Question1:** Consider the \"Wine\" dataset from Sklearn and classify wine types using a Random Forest classifier. Perform 10 cross-validations and print the mean accuracy results. Use 80% of the data for training. Predict the labels on the test set, compute, and plot the confusion matrix. Calculate the feature importance from the Random Forest model. Visualize (plot) only the top 5 important features (top 5 important not all).  (10 points)"
      ]
    },
    {
      "cell_type": "code",
      "execution_count": null,
      "metadata": {},
      "outputs": [],
      "source": [
        "#import libraries \n",
        "\n",
        "\n",
        "# Load the dataset \n",
        "\n",
        "\n",
        "# Split the data into training and testing sets \n",
        "\n",
        "\n",
        "# Initialize the Random Forest Classifier\n",
        "\n",
        "\n",
        "# Perform  cross-validation\n",
        "\n",
        "\n",
        "# Fit the model on the training data\n",
        "\n",
        "\n",
        "# Predict the labels on the test set\n",
        "\n",
        "\n",
        "# Compute the confusion matrix\n",
        "cm = \n",
        "\n",
        "# Plot the confusion matrix\n",
        "disp = \n",
        "disp.plot()\n",
        "plt.title(\"Confusion Matrix\")\n",
        "plt.show()\n",
        "\n",
        "# Get the feature importance from the random forest model\n",
        "feature_importances = \n",
        "\n",
        "# Find the indices of the top 5 most important features\n",
        "\n",
        "\n",
        "# Get the feature names and their importance values\n",
        "\n",
        "\n",
        "# Plot the top 5 important features\n",
        "\n",
        "\n",
        "plt.xlabel('Feature Importance')\n",
        "plt.ylabel('Features')\n",
        "plt.title('Top 5 Important Features from Random Forest Classifier')\n",
        "plt.show()\n",
        "\n",
        "# Print the mean accuracy from cross-validation\n",
        "\n"
      ]
    },
    {
      "cell_type": "markdown",
      "metadata": {
        "id": "GgrWjno16jFS"
      },
      "source": [
        "**Domanda2**: Considera il dataset \"Breast Cancer\" di Sklearn. Converti il dataset in un DataFrame di pandas e visualizza le prime 5 righe del DataFrame per ispezionare il dataset. Esegui il clustering K-Means con K=3, utilizzando le prime due caratteristiche del dataset. Traccia i punti dati raggruppati e calcola e traccia i centri dei cluster. (10 punti)\n",
        "==============================================================================================================\n",
        "**Question2:** Consider the 'Breast Cancer' dataset from Sklearn. Convert it into a pandas DataFrame and display the first 5 rows of the DataFrame to inspect the dataset. Perform K-Means clustering with K=3, using the first two features of the dataset. Plot the clustered data points and calculate and plot the cluster centers. (10 points)"
      ]
    },
    {
      "cell_type": "code",
      "execution_count": null,
      "metadata": {
        "colab": {
          "base_uri": "https://localhost:8080/",
          "height": 472
        },
        "id": "eyjRhpT97fb7",
        "outputId": "1766b24f-93e6-43f8-f223-dafac6995cc2"
      },
      "outputs": [],
      "source": [
        "# import libraries\n",
        "\n",
        "\n",
        "# Load the  dataset\n",
        "cancer = \n",
        "\n",
        "# Convert to pandas DataFrame\n",
        "df = \n",
        "\n",
        "# Display the first 5 rows of the DataFrame to inspect the dataset\n",
        "print()\n",
        "\n",
        "# Select the first two features for clustering\n",
        "X = \n",
        "\n",
        "# Perform K-Means clustering with K=3\n",
        "kmeans = \n",
        "\n",
        "\n",
        "# Get the cluster centers\n",
        "cluster_centers = \n",
        "\n",
        "# Predict the cluster labels\n",
        "y_kmeans = \n",
        "\n",
        "# Plot the clustered data points\n",
        "\n",
        "\n",
        "# Plot the cluster centers\n",
        "\n",
        "plt.title('K-Means Clustering on Breast Cancer Data (First Two Features)')\n",
        "plt.legend()\n",
        "plt.show()\n"
      ]
    },
    {
      "cell_type": "markdown",
      "metadata": {
        "id": "Ls0H_cw37osc"
      },
      "source": [
        "**Domanda3**: Considera il dataset \"Iris\" di Sklearn. Trova il numero ottimale di cluster (K) utilizzando l'algoritmo di clustering K-Means. Imposta i valori di K da 1 a 10, calcola la somma dei quadrati all'interno del cluster (inertia) e il punteggio silhouette per ogni K, traccia i valori di inertia e i punteggi silhouette rispetto al numero di cluster (K), e identifica il punto di gomito e il K ottimale basato sul punteggio silhouette e inertia. (10 punti)\n",
        "============================================================================================================\n",
        "**Question3:** Consider the 'Iris' dataset from Sklearn. Use the K-Means clustering algorithm to find the optimal number of clusters (K). Set K values ranging from 1 to 10, compute the cluster sum of squares (inertia) and the silhouette score for each K. Plot the inertia values and silhouette scores against the number of clusters (K), and identify the elbow point and the optimal K based on both the silhouette score and the inertia. (10 points)"
      ]
    },
    {
      "cell_type": "code",
      "execution_count": null,
      "metadata": {
        "colab": {
          "base_uri": "https://localhost:8080/",
          "height": 489
        },
        "id": "p0sCfecT8CWk",
        "outputId": "d8cd9ba9-8f3e-47fc-8f27-481593691042"
      },
      "outputs": [],
      "source": [
        "# import libraries\n",
        "\n",
        "\n",
        "\n",
        "# Load the  dataset\n",
        "iris = \n",
        "X = \n",
        "\n",
        "# Range of K values to test\n",
        "K_range = \n",
        "\n",
        "# Lists to store inertia and silhouette scores\n",
        "inertia_values = []\n",
        "silhouette_scores = []\n",
        "\n",
        "# Compute inertia and silhouette scores for each K\n",
        "\n",
        "    \n",
        "    # Append inertia (within-cluster sum of squares)\n",
        "    \n",
        "    # Silhouette score can only be calculated when K > 1\n",
        "\n",
        "\n",
        "# Plot Inertia values against K\n",
        "plt.figure(figsize=(12, 5))\n",
        "\n",
        "plt.subplot(1, 2, 1)\n",
        "plt.plot(?, ?, marker='o', linestyle='--')\n",
        "plt.xlabel('Number of Clusters (K)')\n",
        "plt.ylabel('Inertia (Sum of Squares)')\n",
        "plt.title('Elbow Method: Inertia vs K')\n",
        "\n",
        "# Plot Silhouette scores against K\n",
        "plt.subplot(1, 2, 2)\n",
        "plt.plot(?, ?, marker='o', linestyle='--')\n",
        "plt.xlabel('Number of Clusters (K)')\n",
        "plt.ylabel('Silhouette Score')\n",
        "plt.title('Silhouette Score vs K')\n",
        "\n",
        "plt.tight_layout()\n",
        "plt.show()\n",
        "\n",
        "# Identify the elbow point (where inertia starts to decrease slowly)\n",
        "\n",
        "\n",
        "# Identify the optimal K based on the highest silhouette score\n",
        "\n"
      ]
    }
  ],
  "metadata": {
    "colab": {
      "provenance": []
    },
    "kernelspec": {
      "display_name": "Python 3",
      "name": "python3"
    },
    "language_info": {
      "codemirror_mode": {
        "name": "ipython",
        "version": 3
      },
      "file_extension": ".py",
      "mimetype": "text/x-python",
      "name": "python",
      "nbconvert_exporter": "python",
      "pygments_lexer": "ipython3",
      "version": "3.11.4"
    }
  },
  "nbformat": 4,
  "nbformat_minor": 0
}
