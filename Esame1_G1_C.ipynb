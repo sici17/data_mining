{
  "cells": [
    {
      "cell_type": "markdown",
      "metadata": {
        "id": "X-BZ435XIc_s"
      },
      "source": [
        "Si prega di compilare il modulo (le tue informazioni)\n",
        "\n",
        "**Please fill in the form (your information)**\n"
      ]
    },
    {
      "cell_type": "code",
      "execution_count": null,
      "metadata": {
        "id": "77P63yXSId5S"
      },
      "outputs": [],
      "source": [
        "# codice : Esame1-G1-C\n",
        "\n",
        "#Nome:\n",
        "\n",
        "#Cognome:\n",
        "\n",
        "#Matricola:\n"
      ]
    },
    {
      "cell_type": "markdown",
      "metadata": {
        "id": "L1R-O7ayIfMK"
      },
      "source": [
        "**Domanda 1**: Carica il dataset 'California housing' in un oggetto DataFrame e visualizza (stampa) le prime 10 righe del DataFrame. Successivamente, crea un istogramma dell'attributo 'MedInc' (reddito mediano). (6 punti)\n",
        "=============================================================================================================\n",
        "**Question 1:** Load the 'California housing' dataset into a DataFrame object and display (print) the first 10 rows of the DataFrame. Then, create a histogram plot of the 'MedInc' (median income) attribute. (6 points)"
      ]
    },
    {
      "cell_type": "code",
      "execution_count": null,
      "metadata": {
        "colab": {
          "base_uri": "https://localhost:8080/",
          "height": 871
        },
        "id": "fzuRLfC7IkaC",
        "outputId": "5801d12f-3249-468b-f5c3-838bc1014f9a"
      },
      "outputs": [],
      "source": [
        "# libraries\n",
        "?\n",
        "\n",
        "# load the data\n",
        "california = ?\n",
        "\n",
        "# Define the dataframe\n",
        "df = pd.DataFrame(data=?, columns=?)\n",
        "df['target'] = california.?\n",
        "print(?)\n",
        "\n",
        "# histogram plot\n",
        "df['MedInc'].?()\n",
        "plt.xlabel('Median Income')\n",
        "plt.ylabel('Frequency')\n",
        "plt.title('Histogram of Median Income')\n",
        "plt.show()\n"
      ]
    },
    {
      "cell_type": "markdown",
      "metadata": {
        "id": "AJCubfAyIqgS"
      },
      "source": [
        "**Domanda 2**: Applicare l'algoritmo di clustering K-Means sul dataset 'California housing' per raggruppare i campioni in 3 cluster. Poi visualizza i cluster utilizzando un grafico a dispersione di 'MedInc' rispetto a 'AveOccup'. (6 punti)\n",
        "============================================================================================================\n",
        "**Question 2:** Apply the K-Means algorithm to the 'California housing' dataset to cluster the samples into 3 clusters. Then, visualize the resulting clusters using  a scatter plot of 'MedInc' vs 'AveOccup'. (6 points)"
      ]
    },
    {
      "cell_type": "code",
      "execution_count": null,
      "metadata": {
        "colab": {
          "base_uri": "https://localhost:8080/",
          "height": 507
        },
        "id": "QMCTHyQDIrgz",
        "outputId": "b2c2aeb3-61fa-43b5-b938-8b6fab7bb162"
      },
      "outputs": [],
      "source": [
        "# libraries \n",
        "?\n",
        "\n",
        "# load the data\n",
        "california = ?\n",
        "\n",
        "# Define the dataframe\n",
        "df = pd.DataFrame(?)\n",
        "\n",
        "# Perform K-Means clustering\n",
        "kmeans = ?\n",
        "df['Cluster'] = ?\n",
        "\n",
        "# Scatter plot of MedInc vs AveOccup\n",
        "plt.scatter(?['MedInc'], ?['AveOccup'], c=df['Cluster'], cmap='viridis')\n",
        "plt.xlabel('Median Income')\n",
        "plt.ylabel('Average Occupancy')\n",
        "plt.title('K-Means Clustering of California Housing Dataset')\n",
        "plt.show()\n"
      ]
    },
    {
      "cell_type": "markdown",
      "metadata": {
        "id": "fim-ni-cIyob"
      },
      "source": [
        "**Domanda 3**: Addestra un classificatore ad albero decisionale sul dataset 'wine' per prevedere la classe del vino. Valuta il modello utilizzando la metrica di accuratezza e visualizza la matrice di confusione. (9 punti)\n",
        "===============================================================================================================\n",
        "**Question 3:** Train a decision tree classifier on the 'wine' dataset to predict the wine class. Evaluate the model using accuracy metric and display the confusion matrix. (9 points)"
      ]
    },
    {
      "cell_type": "code",
      "execution_count": null,
      "metadata": {
        "id": "V0XMnzcjI0Bq"
      },
      "outputs": [],
      "source": [
        "# libraries\n",
        "?\n",
        "\n",
        "# load data\n",
        "\n",
        "wine = ?\n",
        "df = pd.DataFrame(?)\n",
        "df['target'] = ?\n",
        "\n",
        "X = ?.drop('target', axis=1)\n",
        "y = ?['?']\n",
        "\n",
        "X_train, X_test, y_train, y_test = ?(X, y, ?, random_state=42)\n",
        "\n",
        "model = ?\n",
        "model.?(?)\n",
        "y_pred = model.?\n",
        "\n",
        "accuracy = ?(?, y_pred)\n",
        "print(f'Accuracy: {accuracy}')\n",
        "\n",
        "cm = ?(y_test, y_pred)\n",
        "sns.heatmap(cm, annot=True, fmt='d', cmap='Blues')\n",
        "plt.xlabel('Predicted')\n",
        "plt.ylabel('Actual')\n",
        "plt.title('Confusion Matrix')\n",
        "plt.show()\n"
      ]
    },
    {
      "cell_type": "markdown",
      "metadata": {
        "id": "ggHhWIoyI1tL"
      },
      "source": [
        "**Domanda 4**: Utilizza il dataset 'breast cancer' per addestrare un classificatore random forest composto da 80 alberi decisionali per prevedere la classe target. Usare cross-validation con 5 folds per valutare il modello. (9 punti)\n",
        "==============================================================================================================\n",
        "**Question 4:** Use the 'breast cancer' dataset to train a random forest classifier with 80 trees to predict the target. Use cross-validation with 5 folds to evaluate the model. (9 points)"
      ]
    },
    {
      "cell_type": "code",
      "execution_count": null,
      "metadata": {
        "colab": {
          "base_uri": "https://localhost:8080/"
        },
        "id": "-F3U5cMWI4lq",
        "outputId": "2066f5cd-74a1-4fef-caa1-e79153e24530"
      },
      "outputs": [],
      "source": [
        "# libraries\n",
        "?\n",
        "\n",
        "# load data\n",
        "\n",
        "breast_cancer = ?\n",
        "\n",
        "# data frame \n",
        "df = ?\n",
        "X = ?\n",
        "y = ?\n",
        "\n",
        "model = ?\n",
        "scores = ?(model, X, y, ?, scoring='accuracy')\n",
        "print(f'Cross-validated Accuracy: {?}')\n"
      ]
    }
  ],
  "metadata": {
    "colab": {
      "provenance": []
    },
    "kernelspec": {
      "display_name": "Python 3",
      "name": "python3"
    },
    "language_info": {
      "name": "python"
    }
  },
  "nbformat": 4,
  "nbformat_minor": 0
}
