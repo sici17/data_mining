{
  "cells": [
    {
      "cell_type": "markdown",
      "metadata": {
        "id": "pTNb0TbP5vxU"
      },
      "source": [
        "Si prega di compilare il modulo (le tue informazioni)\n",
        "**Please fill in the form (your information)"
      ]
    },
    {
      "cell_type": "code",
      "execution_count": null,
      "metadata": {
        "id": "8fOjglws50kr"
      },
      "outputs": [],
      "source": [
        "#Codice: Esame2-G2-A\n",
        "\n",
        "\n",
        "#Nome:\n",
        "\n",
        "#Cognome:\n",
        "\n",
        "#Matricola:\n",
        "\n"
      ]
    },
    {
      "cell_type": "markdown",
      "metadata": {
        "id": "--2VVEeN5EFs"
      },
      "source": [
        "**Domanda1**: Considera il dataset “breast_cancer” da Sklearn e classifica i tipi di tumore utilizzando un classificatore Random Forest. Esegui una validazione incrociata con 5 fold e stampa i risultati medi di accuratezza. Utilizza il 70% dei dati per l’addestramento. Predici le etichette sul set di test, calcola e traccia la matrice di confusione. Traccia l’importanza delle caratteristiche dal modello Random Forest per visualizzare quali caratteristiche sono più importanti per la classificazione. Stampa i nomi delle tre caratteristiche meno importanti. (10 punti)\n",
        "==============================================================================================================\n",
        "**Question1:** Consider the \"breast_cancer\" dataset from Sklearn and classify tumor types using a Random Forest classifier. Consider 5 cross-validations and print the mean results of accuracy. Use 70% of the data for training. Predict the labels on the test set, compute, and plot the confusion matrix. Plot the feature importance from the Random Forest model to visualize which features are most important for the classification. print the name of three features that are less important  (10 points)"
      ]
    },
    {
      "cell_type": "code",
      "execution_count": null,
      "metadata": {},
      "outputs": [],
      "source": [
        "# import libraries (remember to add all needed libraries) \n",
        "\n",
        "\n",
        "\n",
        "# load the dataset \n",
        "cancer = ?\n",
        "# define the data and target (labels)\n",
        "X = ?\n",
        "y = ?\n",
        "\n",
        "# Devide dataset to training and test (use 70% for training)\n",
        "\n",
        "X_train, X_test, y_train, y_test = \n",
        "\n",
        "# Define random forest classifier (use 100 estimators)\n",
        "\n",
        "rf_clf = ?\n",
        "\n",
        "# use the cross validations on training \n",
        "cv_scores = ?\n",
        "\n",
        "# print the scores\n",
        "\n",
        "# apply the model on data \n",
        "rf_clf.?\n",
        "\n",
        "# predict the labels \n",
        "y_pred = ?\n",
        "\n",
        "# Calculate and print the confusion matrix \n",
        "conf_matrix = ?\n",
        "print(\"Matrice di Confusione:\\n\", conf_matrix)\n",
        "\n",
        "# plot the confusion matrix\n",
        "disp = ?(?=conf_matrix, display_labels=cancer.target_names)\n",
        "disp.plot(cmap=plt.cm.Blues)\n",
        "plt.title('Matrice di Confusione')\n",
        "plt.show()\n",
        "\n",
        "\n",
        "# calculate the feature importance\n",
        "importances =\n",
        "indices = \n",
        "feature_names = \n",
        "\n",
        "# print the feature importance\n",
        "\n",
        "plt.figure(figsize=(12, 6))\n",
        "plt.title(\"Importanza delle Caratteristiche\")\n",
        "plt.bar(?, ?, align=\"center\")\n",
        "plt.xticks(?, ?, rotation=90)\n",
        "plt.xlim([-1, X.shape[1]])\n",
        "plt.show()\n"
      ]
    },
    {
      "cell_type": "markdown",
      "metadata": {
        "id": "GgrWjno16jFS"
      },
      "source": [
        "**Domanda2**: Considera il dataset “make_blobs” da Sklearn. Esegui il clustering K-Means (K=3 cluster). Per generare il dataset, usa 300 campioni, 2 caratteristiche e 3 centri. Introduci valori mancanti casuali nel 10% del dataset, quindi imputa questi valori mancanti utilizzando il metodo di imputazione della media. Esegui il clustering K-Means sia sul dataset originale che su quello con i valori imputati. Traccia i punti dati raggruppati e calcola e traccia i centri dei cluster. Confronta i risultati del clustering con e senza dati mancanti per osservare gli effetti dell’imputazione dei dati. (10 punti)\n",
        "==============================================================================================================\n",
        "**Question2:** Consider the \"make_blobs\" dataset from Sklearn. Perform K-Means clustering (K=3 clusters). To generate the dataset, use 300 samples, 2 features, and 3 centers. Introduce random missing values to 10% of the dataset, then impute these missing values using the mean imputation method. Perform K-Means clustering on both the original dataset and the dataset with imputed values. Plot the clustered data points and calculate and plot the cluster centers. Compare the clustering results with and without missing data to observe the effects of data imputation. (10 points)"
      ]
    },
    {
      "cell_type": "code",
      "execution_count": null,
      "metadata": {
        "colab": {
          "base_uri": "https://localhost:8080/",
          "height": 472
        },
        "id": "eyjRhpT97fb7",
        "outputId": "1766b24f-93e6-43f8-f223-dafac6995cc2"
      },
      "outputs": [],
      "source": [
        "# import libraries \n",
        "\n",
        "\n",
        "# Generate the dataset\n",
        "X, y = ?\n",
        "\n",
        "# Introduce random missing values\n",
        "rng = np.random.default_rng(seed=42)\n",
        "\n",
        "missing_mask =   # 10% missing values\n",
        "X_missing = \n",
        "X_missing[missing_mask] = np.nan\n",
        "\n",
        "# Impute the missing values using mean imputation\n",
        "imputer = ?\n",
        "X_imputed = ?\n",
        "\n",
        "# Perform K-Means clustering on both original and imputed datasets\n",
        "kmeans_original = ?\n",
        "kmeans_imputed = ?\n",
        "\n",
        "kmeans_original.?\n",
        "kmeans_imputed.?\n",
        "\n",
        "# Visualize the results\n",
        "def plot_clusters(X, kmeans, title):\n",
        "    y_kmeans = ?\n",
        "    plt.scatter(?, ?, c=y_kmeans, s=50, cmap='viridis')\n",
        "    centers = kmeans.cluster_centers_\n",
        "    plt.scatter(centers[?], centers[?], c='red', s=200, alpha=0.75, marker='x')\n",
        "    plt.title(title)\n",
        "    plt.show()\n",
        "\n",
        "# Plotting clusters for original data\n",
        "plot_clusters(?, kmeans_original, \"K-Means Clustering on Original Data\")\n",
        "\n",
        "# Plotting clusters for imputed data\n",
        "plot_clusters(?, kmeans_imputed, \"K-Means Clustering on Imputed Data\")\n"
      ]
    },
    {
      "cell_type": "markdown",
      "metadata": {
        "id": "Ls0H_cw37osc"
      },
      "source": [
        "**Domanda3**: Considera il dataset “wine” di Sklearn. Trova il numero ottimale di cluster (K) utilizzando l’algoritmo di clustering K-Means. Imposta i valori di K da 1 a 10, calcola la somma dei quadrati all’interno del cluster (inertia o SSE) e il punteggio silhouette per ogni K. Traccia i valori di inertia e i punteggi silhouette rispetto al numero di cluster (K), e identifica il valore di K ottimale basato sul punteggio silhouette e inertia. (10 punti)\n",
        "============================================================================================================\n",
        "**Question3:** Consider the \"wine\" dataset from Sklearn.  Find the optimal number of clusters (K) using the K-Means clustering algorithm.  Set K values ranging from 1 to 10, compute the cluster sum of squares (inertia) and the silhouette score for each K, plot the inertia values and silhouette scores against the number of clusters (K), and identify the optimal K based on the silhouette score and inertia. (10 points)"
      ]
    },
   
